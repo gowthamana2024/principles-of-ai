{
  "nbformat": 4,
  "nbformat_minor": 0,
  "metadata": {
    "colab": {
      "provenance": [],
      "authorship_tag": "ABX9TyPxPU16rpYig7J7rMLIrUtR",
      "include_colab_link": true
    },
    "kernelspec": {
      "name": "python3",
      "display_name": "Python 3"
    },
    "language_info": {
      "name": "python"
    }
  },
  "cells": [
    {
      "cell_type": "markdown",
      "metadata": {
        "id": "view-in-github",
        "colab_type": "text"
      },
      "source": [
        "<a href=\"https://colab.research.google.com/github/gowthamana2024/principles-of-ai/blob/main/unification_and_resolution.ipynb\" target=\"_parent\"><img src=\"https://colab.research.google.com/assets/colab-badge.svg\" alt=\"Open In Colab\"/></a>"
      ]
    },
    {
      "cell_type": "code",
      "execution_count": 1,
      "metadata": {
        "id": "elpBZUyc_6XH"
      },
      "outputs": [],
      "source": [
        "#GOWTHAMAN A 241801073 AIDS\n",
        "def is_variable(x):\n",
        "    return isinstance(x, str) and x.islower()\n",
        "\n",
        "def unify(x, y, substitutions={}):\n",
        "    if substitutions is None:\n",
        "        return None\n",
        "    elif x == y:\n",
        "        return substitutions\n",
        "    elif is_variable(x):\n",
        "        return unify_var(x, y, substitutions)\n",
        "    elif is_variable(y):\n",
        "        return unify_var(y, x, substitutions)\n",
        "    elif isinstance(x, list) and isinstance(y, list) and len(x) == len(y):\n",
        "        for xi, yi in zip(x, y):\n",
        "            substitutions = unify(xi, yi, substitutions)\n",
        "            if substitutions is None:\n",
        "                return None\n",
        "        return substitutions\n",
        "    else:\n",
        "        return None\n",
        "\n",
        "def unify_var(var, x, substitutions):\n",
        "    if var in substitutions:\n",
        "        return unify(substitutions[var], x, substitutions)\n",
        "    elif x in substitutions:\n",
        "        return unify(var, substitutions[x], substitutions)\n",
        "    elif occurs_check(var, x, substitutions):\n",
        "        return None\n",
        "    else:\n",
        "        substitutions[var] = x\n",
        "        return substitutions\n",
        "\n",
        "def occurs_check(var, x, substitutions):\n",
        "    if var == x:\n",
        "        return True\n",
        "    elif is_variable(x) and x in substitutions:\n",
        "        return occurs_check(var, substitutions[x], substitutions)\n",
        "    elif isinstance(x, list):\n",
        "        return any(occurs_check(var, xi, substitutions) for xi in x)\n",
        "    else:\n",
        "        return False\n"
      ]
    },
    {
      "cell_type": "code",
      "source": [
        "# Example: unify P(x, y) with P(a, b)\n",
        "x = ['P', 'x', 'y']\n",
        "y = ['P', 'a', 'b']\n",
        "\n",
        "result = unify(x, y, {})\n",
        "print(\"Unification Result:\", result)\n"
      ],
      "metadata": {
        "colab": {
          "base_uri": "https://localhost:8080/"
        },
        "id": "DhiTW2TnAI9Y",
        "outputId": "a3887d81-b7c2-4ab9-f07b-eedb2e946437"
      },
      "execution_count": 2,
      "outputs": [
        {
          "output_type": "stream",
          "name": "stdout",
          "text": [
            "Unification Result: {'x': 'a', 'y': 'b'}\n"
          ]
        }
      ]
    },
    {
      "cell_type": "code",
      "source": [
        "def resolve(ci, cj):\n",
        "    resolvents = []\n",
        "    for di in ci:\n",
        "        for dj in cj:\n",
        "            if di == negate(dj):\n",
        "                new_clause = list(set(ci + cj))\n",
        "                new_clause.remove(di)\n",
        "                new_clause.remove(dj)\n",
        "                resolvents.append(new_clause)\n",
        "    return resolvents\n",
        "\n",
        "def negate(literal):\n",
        "    return literal[1:] if literal.startswith('~') else '~' + literal\n"
      ],
      "metadata": {
        "id": "cenDE1J-AOMo"
      },
      "execution_count": 3,
      "outputs": []
    },
    {
      "cell_type": "code",
      "source": [
        "# Example: C1 = [A, ~B], C2 = [B, C]\n",
        "C1 = ['A', '~B']\n",
        "C2 = ['B', 'C']\n",
        "\n",
        "resolved = resolve(C1, C2)\n",
        "print(\"Resolved Clauses:\", resolved)\n"
      ],
      "metadata": {
        "colab": {
          "base_uri": "https://localhost:8080/"
        },
        "id": "WAod7qUiAVJf",
        "outputId": "a5b33e12-9062-442b-c577-b19cbff234f0"
      },
      "execution_count": 4,
      "outputs": [
        {
          "output_type": "stream",
          "name": "stdout",
          "text": [
            "Resolved Clauses: [['A', 'C']]\n"
          ]
        }
      ]
    }
  ]
}