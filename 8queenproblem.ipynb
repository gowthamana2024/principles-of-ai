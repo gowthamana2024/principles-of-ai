#A.Gowthaman AIDS 241801073
{
  "nbformat": 4,
  "nbformat_minor": 0,
  "metadata": {
    "colab": {
      "provenance": [],
      "authorship_tag": "ABX9TyMSkm0fZljs2mK7xNdqpJ6n",
      "include_colab_link": true
    },
    "kernelspec": {
      "name": "python3",
      "display_name": "Python 3"
    },
    "language_info": {
      "name": "python"
    }
  },
  "cells": [
    {
      "cell_type": "markdown",
      "metadata": {
        "id": "view-in-github",
        "colab_type": "text"
      },
      "source": [
        "<a href=\"https://colab.research.google.com/github/gowthamana2024/principles-of-ai/blob/main/8queenproblem.ipynb\" target=\"_parent\"><img src=\"https://colab.research.google.com/assets/colab-badge.svg\" alt=\"Open In Colab\"/></a>"
      ]
    },
    {
      "cell_type": "code",
      "execution_count": 2,
      "metadata": {
        "colab": {
          "base_uri": "https://localhost:8080/"
        },
        "id": "6W-559OGZaz1",
        "outputId": "ed48fd7b-f389-4f35-bcf6-bb469d631b88"
      },
      "outputs": [
        {
          "output_type": "stream",
          "name": "stdout",
          "text": [
            "Q . . . . . . .\n",
            ". . . . Q . . .\n",
            ". . . . . . . Q\n",
            ". . . . . Q . .\n",
            ". . Q . . . . .\n",
            ". . . . . . Q .\n",
            ". Q . . . . . .\n",
            ". . . Q . . . .\n",
            "\n",
            "\n"
          ]
        }
      ],
      "source": [
        "def print_solution(board):\n",
        "    for row in board:\n",
        "        print(\" \".join(\"Q\" if col else \".\" for col in row))\n",
        "    print(\"\\n\")\n",
        "\n",
        "def is_safe(board, row, col):\n",
        "    # Check this column on upper side\n",
        "    for i in range(row):\n",
        "        if board[i][col]:\n",
        "            return False\n",
        "\n",
        "    # Check upper diagonal on left side\n",
        "    for i, j in zip(range(row, -1, -1), range(col, -1, -1)):\n",
        "        if j < 0:\n",
        "            break\n",
        "        if board[i][j]:\n",
        "            return False\n",
        "\n",
        "    # Check upper diagonal on right side\n",
        "    for i, j in zip(range(row, -1, -1), range(col, len(board))):\n",
        "        if j >= len(board):\n",
        "            break\n",
        "        if board[i][j]:\n",
        "            return False\n",
        "\n",
        "    return True\n",
        "\n",
        "def solve_n_queens_util(board, row):\n",
        "    if row >= len(board):\n",
        "        print_solution(board)\n",
        "        return True  # Stop after finding the first solution\n",
        "\n",
        "    for col in range(len(board)):\n",
        "        if is_safe(board, row, col):\n",
        "            board[row][col] = True\n",
        "            if solve_n_queens_util(board, row + 1):\n",
        "                return True  # Return immediately after finding the first solution\n",
        "            board[row][col] = False  # backtrack\n",
        "\n",
        "    return False\n",
        "\n",
        "def solve_n_queens(n):\n",
        "    board = [[False for _ in range(n)] for _ in range(n)]\n",
        "    if not solve_n_queens_util(board, 0):\n",
        "        print(\"Solution does not exist\")\n",
        "\n",
        "# Solve the 8-Queens problem and print only one solution\n",
        "solve_n_queens(8)\n",
        "\n"
      ]
    }
  ]
}
