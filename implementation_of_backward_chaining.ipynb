{
  "nbformat": 4,
  "nbformat_minor": 0,
  "metadata": {
    "colab": {
      "provenance": [],
      "authorship_tag": "ABX9TyP7hKXfri17fpj2pMXAzEyI",
      "include_colab_link": true
    },
    "kernelspec": {
      "name": "python3",
      "display_name": "Python 3"
    },
    "language_info": {
      "name": "python"
    }
  },
  "cells": [
    {
      "cell_type": "markdown",
      "metadata": {
        "id": "view-in-github",
        "colab_type": "text"
      },
      "source": [
        "<a href=\"https://colab.research.google.com/github/gowthamana2024/principles-of-ai/blob/main/implementation_of_backward_chaining.ipynb\" target=\"_parent\"><img src=\"https://colab.research.google.com/assets/colab-badge.svg\" alt=\"Open In Colab\"/></a>"
      ]
    },
    {
      "cell_type": "code",
      "execution_count": 1,
      "metadata": {
        "id": "TaP98576A0OV"
      },
      "outputs": [],
      "source": [
        "# Knowledge base: rules and facts\n",
        "rules = {\n",
        "    'wet_grass': ['rain', 'sprinkler'],        # OR condition\n",
        "    'slippery': ['wet_grass'],\n",
        "}\n",
        "\n",
        "facts = {'rain'}  # known facts\n",
        "\n",
        "# Backward chaining engine\n",
        "def backward_chain(goal, visited=None):\n",
        "    if visited is None:\n",
        "        visited = set()\n",
        "\n",
        "    if goal in facts:\n",
        "        return True\n",
        "\n",
        "    if goal in visited:\n",
        "        return False  # avoid infinite loops\n",
        "    visited.add(goal)\n",
        "\n",
        "    if goal not in rules:\n",
        "        return False  # no way to infer this goal\n",
        "\n",
        "    for sub_goal in rules[goal]:\n",
        "        if backward_chain(sub_goal, visited):\n",
        "            facts.add(goal)  # Memoization: cache for faster future inference\n",
        "            return True\n",
        "\n",
        "    return False\n"
      ]
    },
    {
      "cell_type": "code",
      "source": [
        "query = 'slippery'\n",
        "result = backward_chain(query)\n",
        "print(f\"Can we prove '{query}'? {'Yes' if result else 'No'}\")\n"
      ],
      "metadata": {
        "colab": {
          "base_uri": "https://localhost:8080/"
        },
        "id": "JAv6Il-yA_XR",
        "outputId": "305aa49d-cf17-45b1-89a0-49f3b956291f"
      },
      "execution_count": 2,
      "outputs": [
        {
          "output_type": "stream",
          "name": "stdout",
          "text": [
            "Can we prove 'slippery'? Yes\n"
          ]
        }
      ]
    },
    {
      "cell_type": "code",
      "source": [
        "# Try: 'wet_grass', 'rain', 'sprinkler'\n",
        "print(backward_chain('wet_grass'))\n",
        "print(backward_chain('sprinkler'))\n"
      ],
      "metadata": {
        "colab": {
          "base_uri": "https://localhost:8080/"
        },
        "id": "t_bmDg7MBG9R",
        "outputId": "05814e7e-e580-455f-d1f2-5386fd24fb0b"
      },
      "execution_count": 4,
      "outputs": [
        {
          "output_type": "stream",
          "name": "stdout",
          "text": [
            "True\n",
            "False\n"
          ]
        }
      ]
    }
  ]
}