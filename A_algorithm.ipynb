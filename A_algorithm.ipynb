{
  "nbformat": 4,
  "nbformat_minor": 0,
  "metadata": {
    "colab": {
      "provenance": [],
      "authorship_tag": "ABX9TyPjoAOzikwUPEnwEFEXN56Q",
      "include_colab_link": true
    },
    "kernelspec": {
      "name": "python3",
      "display_name": "Python 3"
    },
    "language_info": {
      "name": "python"
    }
  },
  "cells": [
    {
      "cell_type": "markdown",
      "metadata": {
        "id": "view-in-github",
        "colab_type": "text"
      },
      "source": [
        "<a href=\"https://colab.research.google.com/github/gowthamana2024/principles-of-ai/blob/main/A_algorithm.ipynb\" target=\"_parent\"><img src=\"https://colab.research.google.com/assets/colab-badge.svg\" alt=\"Open In Colab\"/></a>"
      ]
    },
    {
      "cell_type": "code",
      "execution_count": 1,
      "metadata": {
        "colab": {
          "base_uri": "https://localhost:8080/"
        },
        "id": "7_PDN0Zl770j",
        "outputId": "04a64554-b114-4e29-e666-538aa88a2d56"
      },
      "outputs": [
        {
          "output_type": "stream",
          "name": "stdout",
          "text": [
            "Shortest path from A to G is: ['A', 'B', 'E', 'G']\n"
          ]
        }
      ],
      "source": [
        "#GOWTHAMAN A 241801073 AIDS B\n",
        "import heapq\n",
        "\n",
        "class Node:\n",
        "    def __init__(self, name, parent=None, g=0, h=0):\n",
        "        self.name = name\n",
        "        self.parent = parent\n",
        "        self.g = g  # Cost from start to current\n",
        "        self.h = h  # Heuristic to goal\n",
        "        self.f = g + h  # Total cost\n",
        "\n",
        "    def __lt__(self, other):\n",
        "        return self.f < other.f\n",
        "\n",
        "def reconstruct_path(node):\n",
        "    path = []\n",
        "    while node:\n",
        "        path.append(node.name)\n",
        "        node = node.parent\n",
        "    return path[::-1]  # Reverse path\n",
        "\n",
        "def a_star(graph, heuristics, start, goal):\n",
        "    open_list = []\n",
        "    closed_set = set()\n",
        "\n",
        "    start_node = Node(start, None, 0, heuristics[start])\n",
        "    heapq.heappush(open_list, start_node)\n",
        "\n",
        "    while open_list:\n",
        "        current = heapq.heappop(open_list)\n",
        "\n",
        "        if current.name == goal:\n",
        "            return reconstruct_path(current)\n",
        "\n",
        "        closed_set.add(current.name)\n",
        "\n",
        "        for neighbor, cost in graph[current.name]:\n",
        "            if neighbor in closed_set:\n",
        "                continue\n",
        "\n",
        "            g = current.g + cost\n",
        "            h = heuristics.get(neighbor, float('inf'))\n",
        "            neighbor_node = Node(neighbor, current, g, h)\n",
        "\n",
        "            # Check if this neighbor is already in open list with a lower f\n",
        "            in_open = False\n",
        "            for node in open_list:\n",
        "                if node.name == neighbor and node.f <= neighbor_node.f:\n",
        "                    in_open = True\n",
        "                    break\n",
        "            if not in_open:\n",
        "                heapq.heappush(open_list, neighbor_node)\n",
        "\n",
        "    return None  # No path found\n",
        "\n",
        "# Sample graph as adjacency list (node: [(neighbor, cost)])\n",
        "graph = {\n",
        "    'A': [('B', 1), ('C', 4)],\n",
        "    'B': [('A', 1), ('D', 2), ('E', 5)],\n",
        "    'C': [('A', 4), ('F', 3)],\n",
        "    'D': [('B', 2)],\n",
        "    'E': [('B', 5), ('G', 1)],\n",
        "    'F': [('C', 3), ('G', 2)],\n",
        "    'G': [('E', 1), ('F', 2)]\n",
        "}\n",
        "\n",
        "# Heuristic values (example)\n",
        "heuristics = {\n",
        "    'A': 7,\n",
        "    'B': 6,\n",
        "    'C': 2,\n",
        "    'D': 3,\n",
        "    'E': 1,\n",
        "    'F': 2,\n",
        "    'G': 0\n",
        "}\n",
        "\n",
        "# Run the algorithm\n",
        "start_node = 'A'\n",
        "goal_node = 'G'\n",
        "path = a_star(graph, heuristics, start_node, goal_node)\n",
        "\n",
        "print(f\"Shortest path from {start_node} to {goal_node} is: {path}\")\n"
      ]
    }
  ]
}