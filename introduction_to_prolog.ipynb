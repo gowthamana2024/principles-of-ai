{
  "nbformat": 4,
  "nbformat_minor": 0,
  "metadata": {
    "colab": {
      "provenance": [],
      "authorship_tag": "ABX9TyPFIY4DT0fnsP1u+5t8zyOK",
      "include_colab_link": true
    },
    "kernelspec": {
      "name": "python3",
      "display_name": "Python 3"
    },
    "language_info": {
      "name": "python"
    }
  },
  "cells": [
    {
      "cell_type": "markdown",
      "metadata": {
        "id": "view-in-github",
        "colab_type": "text"
      },
      "source": [
        "<a href=\"https://colab.research.google.com/github/gowthamana2024/principles-of-ai/blob/main/introduction_to_prolog.ipynb\" target=\"_parent\"><img src=\"https://colab.research.google.com/assets/colab-badge.svg\" alt=\"Open In Colab\"/></a>"
      ]
    },
    {
      "cell_type": "code",
      "execution_count": 4,
      "metadata": {
        "colab": {
          "base_uri": "https://localhost:8080/"
        },
        "id": "exskzVxZ9sba",
        "outputId": "5ca8810a-4fcd-49d0-e156-90594c38b587"
      },
      "outputs": [
        {
          "output_type": "stream",
          "name": "stdout",
          "text": [
            "Min: 3, Max: 5\n"
          ]
        }
      ],
      "source": [
        "#GOWTHAMAN A 241801073 AIDS\n",
        "def find_min_max(a, b):\n",
        "    return min(a, b), max(a, b)\n",
        "\n",
        "# Example\n",
        "a = 5\n",
        "b = 3\n",
        "min_val, max_val = find_min_max(a, b)\n",
        "print(f\"Min: {min_val}, Max: {max_val}\")\n"
      ]
    },
    {
      "cell_type": "code",
      "source": [
        "# Initial facts\n",
        "likes = {\n",
        "    ('mary', 'food'),\n",
        "    ('mary', 'wine'),\n",
        "    ('john', 'wine'),\n",
        "    ('john', 'mary')  # manually adding this as in question\n",
        "}\n",
        "\n",
        "# People set (helps identify 'who' is a person vs 'what' is a thing)\n",
        "people = {'mary', 'john'}\n",
        "\n",
        "def person_likes(person, thing):\n",
        "    \"\"\"Checks if a person likes a thing based on facts and rules.\"\"\"\n",
        "\n",
        "    # Direct fact\n",
        "    if (person, thing) in likes:\n",
        "        return True\n",
        "\n",
        "    # Rule 1: John likes anything that Mary likes\n",
        "    if person == 'john' and ('mary', thing) in likes:\n",
        "        return True\n",
        "\n",
        "    # Rule 2: John likes anyone who likes wine\n",
        "    if person == 'john':\n",
        "        for p in people:\n",
        "            if (p, 'wine') in likes and thing == p:\n",
        "                return True\n",
        "\n",
        "    # Rule 3: John likes anyone who likes themselves\n",
        "    if person == 'john' and (thing, thing) in likes:\n",
        "        return True\n",
        "\n",
        "    return False\n"
      ],
      "metadata": {
        "id": "nRLPN01O-w6w"
      },
      "execution_count": 3,
      "outputs": []
    },
    {
      "cell_type": "code",
      "source": [
        "# Simulating Prolog queries\n",
        "\n",
        "queries = [\n",
        "    ('mary', 'food'),\n",
        "    ('john', 'wine'),\n",
        "    ('john', 'food'),     # should return True due to Rule 1\n",
        "    ('john', 'john'),     # Rule 3: check if john likes himself\n",
        "]\n",
        "\n",
        "for person, thing in queries:\n",
        "    result = person_likes(person, thing)\n",
        "    print(f\"likes({person},{thing})? {'yes' if result else 'no'}\")\n"
      ],
      "metadata": {
        "colab": {
          "base_uri": "https://localhost:8080/"
        },
        "id": "Me7FoK93_KuZ",
        "outputId": "570639f1-1943-4cd8-bc80-e4732d814d57"
      },
      "execution_count": 5,
      "outputs": [
        {
          "output_type": "stream",
          "name": "stdout",
          "text": [
            "likes(mary,food)? yes\n",
            "likes(john,wine)? yes\n",
            "likes(john,food)? yes\n",
            "likes(john,john)? yes\n"
          ]
        }
      ]
    },
    {
      "cell_type": "code",
      "source": [
        "def add_fact(person, thing):\n",
        "    likes.add((person, thing))\n",
        "\n",
        "# Example:\n",
        "add_fact('john', 'pizza')\n",
        "print(\"Added: john likes pizza\")\n",
        "print(f\"likes(john, pizza)? {'yes' if person_likes('john', 'pizza') else 'no'}\")\n"
      ],
      "metadata": {
        "colab": {
          "base_uri": "https://localhost:8080/"
        },
        "id": "NXIqXems_RD0",
        "outputId": "e4c3a784-daad-4ee9-8a38-0a3717fde245"
      },
      "execution_count": 6,
      "outputs": [
        {
          "output_type": "stream",
          "name": "stdout",
          "text": [
            "Added: john likes pizza\n",
            "likes(john, pizza)? yes\n"
          ]
        }
      ]
    }
  ]
}